{
 "nbformat": 4,
 "nbformat_minor": 2,
 "metadata": {
  "language_info": {
   "name": "python",
   "codemirror_mode": {
    "name": "ipython",
    "version": 3
   },
   "version": "3.7.6-final"
  },
  "orig_nbformat": 2,
  "file_extension": ".py",
  "mimetype": "text/x-python",
  "name": "python",
  "npconvert_exporter": "python",
  "pygments_lexer": "ipython3",
  "version": 3,
  "kernelspec": {
   "name": "python3",
   "display_name": "Python 3"
  }
 },
 "cells": [
  {
   "cell_type": "code",
   "execution_count": 20,
   "metadata": {},
   "outputs": [
    {
     "output_type": "stream",
     "name": "stdout",
     "text": "5 3\n"
    }
   ],
   "source": [
    "# 交换两个变量值\n",
    "# 定义两个数并赋值\n",
    "#x = 3\n",
    "#y = 5\n",
    "# 方法一：引入第三方变量\n",
    "#z = 0\n",
    "#z = x\n",
    "#x = y\n",
    "#y = z\n",
    "#print(x,y)"
   ]
  },
  {
   "cell_type": "code",
   "execution_count": 23,
   "metadata": {},
   "outputs": [
    {
     "output_type": "stream",
     "name": "stdout",
     "text": "5 3\n"
    }
   ],
   "source": [
    "#方法二\n",
    "x = 3\n",
    "y = 5\n",
    "x,y=y,x\n",
    "print(x,y)"
   ]
  },
  {
   "cell_type": "code",
   "execution_count": 48,
   "metadata": {},
   "outputs": [
    {
     "output_type": "stream",
     "name": "stdout",
     "text": "5 3\n"
    }
   ],
   "source": [
    "#方法三\n",
    "def ex_num(x,y):\n",
    "    return y,x\n",
    "x=3\n",
    "y=5\n",
    "x,y =ex_num(x,y)\n",
    "print(x,y)\n",
    ""
   ]
  },
  {
   "cell_type": "code",
   "execution_count": 22,
   "metadata": {},
   "outputs": [
    {
     "output_type": "stream",
     "name": "stdout",
     "text": "6\n"
    }
   ],
   "source": [
    "# 求数字中各位数之和(3位数)\n",
    "#方法一：\n",
    "num = int(input('输入第一个数字：'))   # 输入数字\n",
    "num1 = int(num / 100)                 # 百位\n",
    "num2 = int(num / 10 % 10)             # 十位\n",
    "num3 = int(num % 10)                  # 个位\n",
    "sum = num1 + num2+ num3               # 求和\n",
    "print(sum) # 显示计算结果\n"
   ]
  },
  {
   "cell_type": "code",
   "execution_count": 49,
   "metadata": {},
   "outputs": [
    {
     "output_type": "error",
     "ename": "NameError",
     "evalue": "name 'sum_number' is not defined",
     "traceback": [
      "\u001b[1;31m---------------------------------------------------------------------------\u001b[0m",
      "\u001b[1;31mNameError\u001b[0m                                 Traceback (most recent call last)",
      "\u001b[1;32m<ipython-input-49-8255d555d3a0>\u001b[0m in \u001b[0;36m<module>\u001b[1;34m\u001b[0m\n\u001b[0;32m      1\u001b[0m \u001b[1;31m#方法二\u001b[0m\u001b[1;33m\u001b[0m\u001b[1;33m\u001b[0m\u001b[1;33m\u001b[0m\u001b[0m\n\u001b[1;32m----> 2\u001b[1;33m \u001b[1;32massert\u001b[0m \u001b[0msum_number\u001b[0m\u001b[1;33m(\u001b[0m\u001b[1;36m234\u001b[0m\u001b[1;33m)\u001b[0m\u001b[1;33m\u001b[0m\u001b[1;33m\u001b[0m\u001b[0m\n\u001b[0m",
      "\u001b[1;31mNameError\u001b[0m: name 'sum_number' is not defined"
     ]
    }
   ],
   "source": [
    "#方法二\n",
    "assert sum_number(234)"
   ]
  },
  {
   "cell_type": "code",
   "execution_count": 54,
   "metadata": {},
   "outputs": [
    {
     "output_type": "stream",
     "name": "stdout",
     "text": "77\n"
    }
   ],
   "source": [
    "#将摄氏度转换为华氏温度\n",
    "a=int(input('celsius：'))                # 输入温度\n",
    "c=int(a*9/5+32) \n",
    "                        # 转换温度\n",
    "# print(\"华氏温度为：{}\".format(c))       # 输出输出结果\n",
    "print(c)                                 # 输出输出结果"
   ]
  },
  {
   "cell_type": "code",
   "execution_count": 51,
   "metadata": {},
   "outputs": [
    {
     "output_type": "stream",
     "name": "stdout",
     "text": "This is not a prime number！\n"
    }
   ],
   "source": [
    "#判断是否为素数\n",
    "s=int(input('Please input a number'))                 # 任意输入\n",
    "if s<2:                                       \n",
    "    print(\"This is a prime number！\")               # 素数大于1\n",
    "else:\n",
    "    for i in range(2,s):                  # 若能将s之前的数整除\n",
    "        if s%i==0:                        # 若能将s之前的数整除\n",
    "            print(\"This is not a prime number！\")       # s不是素数\n",
    "            break\n",
    "    else:\n",
    "        print(\"This is a prime number！\")             # 否则就是素数\n",
    ""
   ]
  },
  {
   "cell_type": "code",
   "execution_count": 50,
   "metadata": {},
   "outputs": [
    {
     "output_type": "stream",
     "name": "stdout",
     "text": "25 is not a prime number.\n"
    }
   ],
   "source": [
    "def is_prime(num):\n",
    "    min_prime = 2\n",
    "    if num < min_prime:         #小于2的所有整数都不是素数\n",
    "        return False \n",
    "    else:                       #判断从3开始的整数是否为素数\n",
    "        max_range = int(num/2 + 1)\n",
    "        for i in range(2,max_range):\n",
    "            if num % i == 0:\n",
    "                return False\n",
    "        else:\n",
    "            return True\n",
    "\n",
    "\n",
    "assert is_prime(2) == True\n",
    "assert is_prime(11) == True\n",
    "assert is_prime(6) == False\n",
    "\n",
    "a = int(input('Please input a number'))\n",
    "if is_prime(a):\n",
    "    print(\"%d is a prime number.\" %a)\n",
    "else:\n",
    "    print(\"%d is not a prime number.\" %a)"
   ]
  },
  {
   "cell_type": "code",
   "execution_count": 39,
   "metadata": {},
   "outputs": [
    {
     "output_type": "execute_result",
     "data": {
      "text/plain": "60"
     },
     "metadata": {},
     "execution_count": 39
    }
   ],
   "source": [
    "#生成随机数\n",
    "import random\n",
    "random.randint(0,99)           #生成随机整数"
   ]
  },
  {
   "cell_type": "code",
   "execution_count": 42,
   "metadata": {},
   "outputs": [
    {
     "output_type": "execute_result",
     "data": {
      "text/plain": "42"
     },
     "metadata": {},
     "execution_count": 42
    }
   ],
   "source": [
    "#生成随机数\n",
    "#import random\n",
    "#random.randrange(0, 101, 2)    #随机选取0到100间的偶数"
   ]
  },
  {
   "cell_type": "code",
   "execution_count": 2,
   "metadata": {},
   "outputs": [
    {
     "output_type": "stream",
     "name": "stdout",
     "text": "[1, 2, 3, 4]\n"
    }
   ],
   "source": [
    "#删除列表中重复元素\n",
    "#lst=[1,2,3,4,2,1,2,4]\n",
    "#print(list(set(lst)))          #集合中是不允许有重复项的"
   ]
  },
  {
   "cell_type": "code",
   "execution_count": 52,
   "metadata": {},
   "outputs": [
    {
     "output_type": "stream",
     "name": "stdout",
     "text": "2\n3\n4\n5\n6\n7\n8\n9\n"
    }
   ],
   "source": [
    "s=int(input(\"input a number：\"))\n",
    "for i in range(2,s):\n",
    "    print(i)                   # print语句中，字符串后会接一个\\n，即换行\n",
    ""
   ]
  },
  {
   "cell_type": "code",
   "execution_count": 19,
   "metadata": {},
   "outputs": [
    {
     "output_type": "execute_result",
     "data": {
      "text/plain": "[4, 3, 2, 1]"
     },
     "metadata": {},
     "execution_count": 19
    }
   ],
   "source": [
    " a = [1,2,3,4]\n",
    " a.reverse()\n",
    " a"
   ]
  },
  {
   "cell_type": "code",
   "execution_count": 18,
   "metadata": {},
   "outputs": [
    {
     "output_type": "stream",
     "name": "stdout",
     "text": "1\n2\n3\n4\n5\n"
    }
   ],
   "source": [
    "for i in [1,2,3,4,5]:\n",
    "  print (i)           # print语句中，字符串后会接一个\\n，即换行"
   ]
  },
  {
   "cell_type": "code",
   "execution_count": 28,
   "metadata": {},
   "outputs": [
    {
     "output_type": "stream",
     "name": "stdout",
     "text": "1\n2\n3\n4\n5\n"
    }
   ],
   "source": [
    "for i in [1,2,3,4,5]:\n",
    "  print (i) "
   ]
  },
  {
   "cell_type": "code",
   "execution_count": 32,
   "metadata": {},
   "outputs": [
    {
     "output_type": "execute_result",
     "data": {
      "text/plain": "9"
     },
     "metadata": {},
     "execution_count": 32
    }
   ],
   "source": [
    "import math\n",
    "int(math.pow(3,2))"
   ]
  },
  {
   "cell_type": "code",
   "execution_count": null,
   "metadata": {},
   "outputs": [],
   "source": []
  }
 ]
}